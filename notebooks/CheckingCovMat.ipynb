{
 "cells": [
  {
   "cell_type": "code",
   "execution_count": 2,
   "metadata": {},
   "outputs": [
    {
     "name": "stdout",
     "output_type": "stream",
     "text": [
      "\r\n",
      "Currently Loaded Modules:\r\n",
      "  1) autotools   3) gnu8/8.3.0       5) ohpc      7) python/3.6/3.6.5\r\n",
      "  2) prun/1.3    4) openmpi3/3.1.4   6) gsl/2.6   8) R/4.1.0\r\n",
      "\r\n",
      " \r\n",
      "\r\n"
     ]
    }
   ],
   "source": [
    "!module list\n",
    "import sys, os\n",
    "sys.path.append(\"/home/u17/jiachuanxu/python3.6_virtualenv/lib/python3.6/site-packages\")\n",
    "os.chdir(\"/home/u17/jiachuanxu/CosmoLike/DESxPlanck\")\n",
    "import numpy as np"
   ]
  },
  {
   "cell_type": "code",
   "execution_count": 3,
   "metadata": {},
   "outputs": [],
   "source": [
    "covblocklist = np.genfromtxt(\n",
    "    \"/home/u17/jiachuanxu/CosmoLike/DESxPlanck/out_cov_desy1xplanck_mix/file_list.txt\",\n",
    "    dtype=[('length','f8'), ('fname','U64')])"
   ]
  },
  {
   "cell_type": "code",
   "execution_count": 4,
   "metadata": {},
   "outputs": [
    {
     "data": {
      "text/plain": [
       "array([(  0., 'file_list.txt'),\n",
       "       (225., 'y1xplanck_kkkk_cov_Ntheta20_Ntomo4_1540'),\n",
       "       (300., 'y1xplanck_kkks_cov_Ntheta20_Ntomo4_1536'), ...,\n",
       "       (400., 'y1xplanck_ssss_--_cov_Ntheta20_Ntomo4_97'),\n",
       "       (400., 'y1xplanck_ssss_--_cov_Ntheta20_Ntomo4_98'),\n",
       "       (400., 'y1xplanck_ssss_--_cov_Ntheta20_Ntomo4_99')],\n",
       "      dtype=[('length', '<f8'), ('fname', '<U64')])"
      ]
     },
     "execution_count": 4,
     "metadata": {},
     "output_type": "execute_result"
    }
   ],
   "source": [
    "covblocklist.sort(axis=0)\n",
    "covblocklist"
   ]
  },
  {
   "cell_type": "code",
   "execution_count": null,
   "metadata": {},
   "outputs": [],
   "source": []
  }
 ],
 "metadata": {
  "kernelspec": {
   "display_name": "Python 3",
   "language": "python",
   "name": "python3"
  },
  "language_info": {
   "codemirror_mode": {
    "name": "ipython",
    "version": 3
   },
   "file_extension": ".py",
   "mimetype": "text/x-python",
   "name": "python",
   "nbconvert_exporter": "python",
   "pygments_lexer": "ipython3",
   "version": "3.6.5"
  }
 },
 "nbformat": 4,
 "nbformat_minor": 4
}
